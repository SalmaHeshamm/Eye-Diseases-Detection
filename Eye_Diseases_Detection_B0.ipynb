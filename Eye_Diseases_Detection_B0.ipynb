{
  "metadata": {
    "kernelspec": {
      "display_name": "Python 3",
      "name": "python3"
    },
    "language_info": {
      "name": "python",
      "version": "3.10.13",
      "mimetype": "text/x-python",
      "codemirror_mode": {
        "name": "ipython",
        "version": 3
      },
      "pygments_lexer": "ipython3",
      "nbconvert_exporter": "python",
      "file_extension": ".py"
    },
    "kaggle": {
      "accelerator": "gpu",
      "dataSources": [
        {
          "sourceId": 4130910,
          "sourceType": "datasetVersion",
          "datasetId": 2440665
        }
      ],
      "dockerImageVersionId": 30648,
      "isInternetEnabled": true,
      "language": "python",
      "sourceType": "notebook",
      "isGpuEnabled": true
    },
    "colab": {
      "provenance": [],
      "gpuType": "T4"
    },
    "accelerator": "GPU"
  },
  "nbformat_minor": 0,
  "nbformat": 4,
  "cells": [
    {
      "cell_type": "markdown",
      "source": [
        "## Import Libraries"
      ],
      "metadata": {
        "id": "tUmM12RyA7g8"
      }
    },
    {
      "cell_type": "code",
      "source": [
        "# import system libs\n",
        "import os\n",
        "import time\n",
        "# import data handling tools\n",
        "import cv2\n",
        "import numpy as np\n",
        "import pandas as pd\n",
        "from PIL import Image\n",
        "import matplotlib.pyplot as plt\n",
        "from sklearn.model_selection import train_test_split\n",
        "from sklearn.metrics import confusion_matrix, classification_report, f1_score\n",
        "# import Deep learning Libraries\n",
        "import tensorflow as tf\n",
        "from tensorflow import keras\n",
        "from tensorflow.keras.models import Model\n",
        "from tensorflow.keras.metrics import categorical_crossentropy\n",
        "from tensorflow.keras.preprocessing.image import ImageDataGenerator\n",
        "from tensorflow.keras.layers import Flatten, Dense, Activation, GlobalAveragePooling2D\n",
        "from tensorflow.keras.callbacks import EarlyStopping, ModelCheckpoint\n",
        "from tensorflow.keras.applications import EfficientNetB0\n",
        "from tensorflow.keras import regularizers\n",
        "\n",
        "import kagglehub\n",
        "# Ignore Warnings\n",
        "import warnings\n",
        "warnings.filterwarnings(\"ignore\")"
      ],
      "metadata": {
        "execution": {
          "iopub.status.busy": "2024-02-15T13:33:46.288741Z",
          "iopub.execute_input": "2024-02-15T13:33:46.289613Z",
          "iopub.status.idle": "2024-02-15T13:34:00.71917Z",
          "shell.execute_reply.started": "2024-02-15T13:33:46.289578Z",
          "shell.execute_reply": "2024-02-15T13:34:00.718351Z"
        },
        "trusted": true,
        "id": "wkenANNkA7g8"
      },
      "outputs": [],
      "execution_count": 1
    },
    {
      "cell_type": "markdown",
      "source": [
        "## Class for Loading and Splitting Datasets"
      ],
      "metadata": {
        "id": "jAMXDA4iA7g8"
      }
    },
    {
      "cell_type": "code",
      "source": [
        "class EyeDiseaseDataset:\n",
        "    def __init__(self, dataDir):\n",
        "        self.data_dir = dataDir\n",
        "\n",
        "    def dataPaths(self):\n",
        "        filepaths = []\n",
        "        labels = []\n",
        "        folds = os.listdir(self.data_dir)\n",
        "        for fold in folds:\n",
        "            foldPath = os.path.join(self.data_dir, fold)\n",
        "            filelist = os.listdir(foldPath)\n",
        "            for file in filelist:\n",
        "                fpath = os.path.join(foldPath, file)\n",
        "                filepaths.append(fpath)\n",
        "                labels.append(fold)\n",
        "        return filepaths, labels\n",
        "\n",
        "    def dataFrame(self, files, labels):\n",
        "\n",
        "        Fseries = pd.Series(files, name='filepaths')\n",
        "        Lseries = pd.Series(labels, name='labels')\n",
        "        return pd.concat([Fseries, Lseries], axis=1)\n",
        "\n",
        "    def split_(self):\n",
        "        files, labels = self.dataPaths()\n",
        "        df = self.dataFrame(files, labels)\n",
        "        strat = df['labels']\n",
        "        trainData, validData = train_test_split(df, train_size=0.8, shuffle=True, random_state=42, stratify=strat)\n",
        "\n",
        "        return trainData, validData"
      ],
      "metadata": {
        "execution": {
          "iopub.status.busy": "2024-02-15T13:34:00.720765Z",
          "iopub.execute_input": "2024-02-15T13:34:00.72128Z",
          "iopub.status.idle": "2024-02-15T13:34:00.730846Z",
          "shell.execute_reply.started": "2024-02-15T13:34:00.721254Z",
          "shell.execute_reply": "2024-02-15T13:34:00.729835Z"
        },
        "trusted": true,
        "id": "AataRKByA7g8"
      },
      "outputs": [],
      "execution_count": 2
    },
    {
      "cell_type": "code",
      "source": [
        "# Download latest version\n",
        "path = kagglehub.dataset_download(\"gunavenkatdoddi/eye-diseases-classification\")\n",
        "\n",
        "print(\"Path to dataset files:\", path)"
      ],
      "metadata": {
        "id": "Q7tHTMqcBd9b",
        "outputId": "1149ea17-2cd5-4aec-f662-a67df2c3420d",
        "colab": {
          "base_uri": "https://localhost:8080/"
        }
      },
      "execution_count": 3,
      "outputs": [
        {
          "output_type": "stream",
          "name": "stdout",
          "text": [
            "Using Colab cache for faster access to the 'eye-diseases-classification' dataset.\n",
            "Path to dataset files: /kaggle/input/eye-diseases-classification\n"
          ]
        }
      ]
    },
    {
      "cell_type": "code",
      "source": [
        "dataDir='/kaggle/input/eye-diseases-classification/dataset'"
      ],
      "metadata": {
        "execution": {
          "iopub.status.busy": "2024-02-15T13:34:00.732118Z",
          "iopub.execute_input": "2024-02-15T13:34:00.732454Z",
          "iopub.status.idle": "2024-02-15T13:34:00.771897Z",
          "shell.execute_reply.started": "2024-02-15T13:34:00.732422Z",
          "shell.execute_reply": "2024-02-15T13:34:00.771077Z"
        },
        "trusted": true,
        "id": "LnWzGPrfA7g8"
      },
      "outputs": [],
      "execution_count": 4
    },
    {
      "cell_type": "code",
      "source": [
        "dataSplit = EyeDiseaseDataset(dataDir)\n",
        "train_data, valid_data = dataSplit.split_()"
      ],
      "metadata": {
        "execution": {
          "iopub.status.busy": "2024-02-15T13:34:00.773844Z",
          "iopub.execute_input": "2024-02-15T13:34:00.774745Z",
          "iopub.status.idle": "2024-02-15T13:34:01.361215Z",
          "shell.execute_reply.started": "2024-02-15T13:34:00.774707Z",
          "shell.execute_reply": "2024-02-15T13:34:01.360459Z"
        },
        "trusted": true,
        "id": "YXu8UyE6A7g8"
      },
      "outputs": [],
      "execution_count": 5
    },
    {
      "cell_type": "markdown",
      "source": [
        "## Function for Data Augmentation"
      ],
      "metadata": {
        "id": "5qcTu4owA7g8"
      }
    },
    {
      "cell_type": "code",
      "source": [
        "def augment_data( train_df, valid_df, batch_size=16):\n",
        "\n",
        "    img_size = (224,224)\n",
        "    channels = 3\n",
        "    color = 'rgb'\n",
        "\n",
        "\n",
        "    train_datagen = tf.keras.preprocessing.image.ImageDataGenerator(\n",
        "              rotation_range= 30,\n",
        "              horizontal_flip=True,\n",
        "              vertical_flip=True,\n",
        "              brightness_range=[0.5, 1.5])\n",
        "\n",
        "    valid_datagen = tf.keras.preprocessing.image.ImageDataGenerator()\n",
        "\n",
        "    train_generator = train_datagen.flow_from_dataframe(\n",
        "              train_df,\n",
        "              x_col='filepaths',\n",
        "              y_col='labels',\n",
        "              target_size=img_size,\n",
        "              color_mode=color,\n",
        "              batch_size=batch_size,\n",
        "              shuffle=True,\n",
        "              class_mode='categorical'\n",
        "          )\n",
        "\n",
        "    print(\"Shape of augmented training images:\", train_generator.image_shape)\n",
        "\n",
        "    valid_generator = valid_datagen.flow_from_dataframe(\n",
        "              valid_df,\n",
        "              x_col='filepaths',\n",
        "              y_col='labels',\n",
        "              target_size=img_size,\n",
        "              color_mode=color,\n",
        "              batch_size=batch_size,\n",
        "              shuffle=True,\n",
        "              class_mode='categorical'\n",
        "          )\n",
        "\n",
        "    print(\"Shape of validation images:\", valid_generator.image_shape)\n",
        "\n",
        "    return train_generator, valid_generator"
      ],
      "metadata": {
        "execution": {
          "iopub.status.busy": "2024-02-15T13:34:01.548334Z",
          "iopub.execute_input": "2024-02-15T13:34:01.548627Z",
          "iopub.status.idle": "2024-02-15T13:34:01.557822Z",
          "shell.execute_reply.started": "2024-02-15T13:34:01.548602Z",
          "shell.execute_reply": "2024-02-15T13:34:01.556847Z"
        },
        "trusted": true,
        "id": "xU75xQG_A7g8"
      },
      "outputs": [],
      "execution_count": 6
    },
    {
      "cell_type": "code",
      "source": [
        "train_augmented, valid_augmented = augment_data(train_data, valid_data)"
      ],
      "metadata": {
        "execution": {
          "iopub.status.busy": "2024-02-15T13:34:01.559043Z",
          "iopub.execute_input": "2024-02-15T13:34:01.559316Z",
          "iopub.status.idle": "2024-02-15T13:34:02.665956Z",
          "shell.execute_reply.started": "2024-02-15T13:34:01.559293Z",
          "shell.execute_reply": "2024-02-15T13:34:02.66507Z"
        },
        "trusted": true,
        "id": "_DB1PPXnA7g8",
        "outputId": "3f9bb8df-3f70-4c6f-aa18-48948c02ffeb",
        "colab": {
          "base_uri": "https://localhost:8080/"
        }
      },
      "outputs": [
        {
          "output_type": "stream",
          "name": "stdout",
          "text": [
            "Found 3373 validated image filenames belonging to 4 classes.\n",
            "Shape of augmented training images: (224, 224, 3)\n",
            "Found 844 validated image filenames belonging to 4 classes.\n",
            "Shape of validation images: (224, 224, 3)\n"
          ]
        }
      ],
      "execution_count": 8
    },
    {
      "cell_type": "code",
      "source": [
        "# Stop training if val_loss doesn't improve for 5 epochs\n",
        "early_stop = EarlyStopping(\n",
        "    monitor='val_loss',\n",
        "    patience= 6,\n",
        "    verbose= 1,\n",
        "    restore_best_weights= True  # restore weights from the best epoch\n",
        ")\n",
        "\n",
        "# Save the best model automatically\n",
        "checkpoint = ModelCheckpoint(\n",
        "    'best_model.keras',  # file to save full model\n",
        "    monitor='val_loss',\n",
        "    save_best_only= True,\n",
        "    verbose= 1\n",
        ")\n"
      ],
      "metadata": {
        "id": "lABoPpeCG94C"
      },
      "execution_count": 10,
      "outputs": []
    },
    {
      "cell_type": "markdown",
      "source": [
        "## Download and compile the model"
      ],
      "metadata": {
        "id": "BftlJmxbA7g8"
      }
    },
    {
      "cell_type": "code",
      "source": [
        "classes = len(list(train_augmented.class_indices.keys()))\n",
        "\n",
        "base_model = EfficientNetB0(weights='imagenet', include_top=False, input_shape=(224, 224, 3))"
      ],
      "metadata": {
        "colab": {
          "base_uri": "https://localhost:8080/"
        },
        "id": "m-K-Pfm2QFAm",
        "outputId": "fe9a28a7-75cd-4cae-afb2-9ec94226fdfe"
      },
      "execution_count": 11,
      "outputs": [
        {
          "output_type": "stream",
          "name": "stdout",
          "text": [
            "Downloading data from https://storage.googleapis.com/keras-applications/efficientnetb0_notop.h5\n",
            "\u001b[1m16705208/16705208\u001b[0m \u001b[32m━━━━━━━━━━━━━━━━━━━━\u001b[0m\u001b[37m\u001b[0m \u001b[1m0s\u001b[0m 0us/step\n"
          ]
        }
      ]
    },
    {
      "cell_type": "code",
      "source": [
        "for layer in base_model.layers:\n",
        "    layer.trainable = False"
      ],
      "metadata": {
        "id": "SCI4iJolQT0Q"
      },
      "execution_count": 12,
      "outputs": []
    },
    {
      "cell_type": "code",
      "source": [
        "x = base_model.output\n",
        "x = GlobalAveragePooling2D()(x)\n",
        "x = Dense(512, activation='relu' , kernel_regularizer = regularizers.l2(0.01))(x)\n",
        "\n",
        "predictions = Dense(classes, activation='softmax', kernel_regularizer = regularizers.l2(0.01))(x)\n",
        "\n",
        "model = Model(inputs=base_model.input, outputs=predictions)"
      ],
      "metadata": {
        "id": "mxg281yPQUcn"
      },
      "execution_count": 13,
      "outputs": []
    },
    {
      "cell_type": "code",
      "source": [
        "optimizer = tf.keras.optimizers.Adam(learning_rate=0.001)\n",
        "\n",
        "model.compile(optimizer=optimizer, loss='categorical_crossentropy', metrics=['accuracy'])"
      ],
      "metadata": {
        "id": "ITkUBQjgQX7A"
      },
      "execution_count": 14,
      "outputs": []
    },
    {
      "cell_type": "markdown",
      "source": [
        "## Fit the model"
      ],
      "metadata": {
        "id": "ZzNmFVbsA7g9"
      }
    },
    {
      "cell_type": "code",
      "source": [
        "history = model.fit(\n",
        "    train_augmented,\n",
        "    epochs=50,\n",
        "    validation_data=valid_augmented,\n",
        "    callbacks=[early_stop, checkpoint]\n",
        "    )"
      ],
      "metadata": {
        "execution": {
          "iopub.status.busy": "2024-02-15T14:11:48.965879Z",
          "iopub.execute_input": "2024-02-15T14:11:48.966236Z",
          "iopub.status.idle": "2024-02-15T14:29:55.564307Z",
          "shell.execute_reply.started": "2024-02-15T14:11:48.966205Z",
          "shell.execute_reply": "2024-02-15T14:29:55.563532Z"
        },
        "trusted": true,
        "id": "RKCR7BMoA7g9",
        "outputId": "c1529b58-4c8a-4f5b-c14e-5f94e86540dc",
        "colab": {
          "base_uri": "https://localhost:8080/"
        }
      },
      "outputs": [
        {
          "output_type": "stream",
          "name": "stdout",
          "text": [
            "Epoch 1/50\n",
            "\u001b[1m211/211\u001b[0m \u001b[32m━━━━━━━━━━━━━━━━━━━━\u001b[0m\u001b[37m\u001b[0m \u001b[1m0s\u001b[0m 453ms/step - accuracy: 0.7055 - loss: 3.9480\n",
            "Epoch 1: val_loss improved from inf to 0.89152, saving model to best_model.keras\n",
            "\u001b[1m211/211\u001b[0m \u001b[32m━━━━━━━━━━━━━━━━━━━━\u001b[0m\u001b[37m\u001b[0m \u001b[1m151s\u001b[0m 588ms/step - accuracy: 0.7057 - loss: 3.9398 - val_accuracy: 0.8092 - val_loss: 0.8915\n",
            "Epoch 2/50\n",
            "\u001b[1m211/211\u001b[0m \u001b[32m━━━━━━━━━━━━━━━━━━━━\u001b[0m\u001b[37m\u001b[0m \u001b[1m0s\u001b[0m 283ms/step - accuracy: 0.7836 - loss: 0.8331\n",
            "Epoch 2: val_loss improved from 0.89152 to 0.70315, saving model to best_model.keras\n",
            "\u001b[1m211/211\u001b[0m \u001b[32m━━━━━━━━━━━━━━━━━━━━\u001b[0m\u001b[37m\u001b[0m \u001b[1m67s\u001b[0m 317ms/step - accuracy: 0.7836 - loss: 0.8329 - val_accuracy: 0.8175 - val_loss: 0.7032\n",
            "Epoch 3/50\n",
            "\u001b[1m211/211\u001b[0m \u001b[32m━━━━━━━━━━━━━━━━━━━━\u001b[0m\u001b[37m\u001b[0m \u001b[1m0s\u001b[0m 282ms/step - accuracy: 0.8204 - loss: 0.6753\n",
            "Epoch 3: val_loss did not improve from 0.70315\n",
            "\u001b[1m211/211\u001b[0m \u001b[32m━━━━━━━━━━━━━━━━━━━━\u001b[0m\u001b[37m\u001b[0m \u001b[1m65s\u001b[0m 310ms/step - accuracy: 0.8204 - loss: 0.6753 - val_accuracy: 0.7713 - val_loss: 0.7782\n",
            "Epoch 4/50\n",
            "\u001b[1m211/211\u001b[0m \u001b[32m━━━━━━━━━━━━━━━━━━━━\u001b[0m\u001b[37m\u001b[0m \u001b[1m0s\u001b[0m 283ms/step - accuracy: 0.8025 - loss: 0.6745\n",
            "Epoch 4: val_loss did not improve from 0.70315\n",
            "\u001b[1m211/211\u001b[0m \u001b[32m━━━━━━━━━━━━━━━━━━━━\u001b[0m\u001b[37m\u001b[0m \u001b[1m70s\u001b[0m 331ms/step - accuracy: 0.8025 - loss: 0.6745 - val_accuracy: 0.7879 - val_loss: 0.7531\n",
            "Epoch 5/50\n",
            "\u001b[1m211/211\u001b[0m \u001b[32m━━━━━━━━━━━━━━━━━━━━\u001b[0m\u001b[37m\u001b[0m \u001b[1m0s\u001b[0m 285ms/step - accuracy: 0.8176 - loss: 0.6630\n",
            "Epoch 5: val_loss did not improve from 0.70315\n",
            "\u001b[1m211/211\u001b[0m \u001b[32m━━━━━━━━━━━━━━━━━━━━\u001b[0m\u001b[37m\u001b[0m \u001b[1m66s\u001b[0m 313ms/step - accuracy: 0.8175 - loss: 0.6630 - val_accuracy: 0.7796 - val_loss: 0.7226\n",
            "Epoch 6/50\n",
            "\u001b[1m211/211\u001b[0m \u001b[32m━━━━━━━━━━━━━━━━━━━━\u001b[0m\u001b[37m\u001b[0m \u001b[1m0s\u001b[0m 280ms/step - accuracy: 0.8195 - loss: 0.6428\n",
            "Epoch 6: val_loss did not improve from 0.70315\n",
            "\u001b[1m211/211\u001b[0m \u001b[32m━━━━━━━━━━━━━━━━━━━━\u001b[0m\u001b[37m\u001b[0m \u001b[1m66s\u001b[0m 311ms/step - accuracy: 0.8195 - loss: 0.6429 - val_accuracy: 0.7168 - val_loss: 0.8723\n",
            "Epoch 7/50\n",
            "\u001b[1m211/211\u001b[0m \u001b[32m━━━━━━━━━━━━━━━━━━━━\u001b[0m\u001b[37m\u001b[0m \u001b[1m0s\u001b[0m 283ms/step - accuracy: 0.8029 - loss: 0.6551\n",
            "Epoch 7: val_loss improved from 0.70315 to 0.70027, saving model to best_model.keras\n",
            "\u001b[1m211/211\u001b[0m \u001b[32m━━━━━━━━━━━━━━━━━━━━\u001b[0m\u001b[37m\u001b[0m \u001b[1m66s\u001b[0m 313ms/step - accuracy: 0.8030 - loss: 0.6551 - val_accuracy: 0.7998 - val_loss: 0.7003\n",
            "Epoch 8/50\n",
            "\u001b[1m211/211\u001b[0m \u001b[32m━━━━━━━━━━━━━━━━━━━━\u001b[0m\u001b[37m\u001b[0m \u001b[1m0s\u001b[0m 281ms/step - accuracy: 0.8223 - loss: 0.6086\n",
            "Epoch 8: val_loss improved from 0.70027 to 0.65385, saving model to best_model.keras\n",
            "\u001b[1m211/211\u001b[0m \u001b[32m━━━━━━━━━━━━━━━━━━━━\u001b[0m\u001b[37m\u001b[0m \u001b[1m66s\u001b[0m 314ms/step - accuracy: 0.8223 - loss: 0.6088 - val_accuracy: 0.7974 - val_loss: 0.6539\n",
            "Epoch 9/50\n",
            "\u001b[1m211/211\u001b[0m \u001b[32m━━━━━━━━━━━━━━━━━━━━\u001b[0m\u001b[37m\u001b[0m \u001b[1m0s\u001b[0m 278ms/step - accuracy: 0.8237 - loss: 0.6113\n",
            "Epoch 9: val_loss did not improve from 0.65385\n",
            "\u001b[1m211/211\u001b[0m \u001b[32m━━━━━━━━━━━━━━━━━━━━\u001b[0m\u001b[37m\u001b[0m \u001b[1m65s\u001b[0m 306ms/step - accuracy: 0.8237 - loss: 0.6114 - val_accuracy: 0.7855 - val_loss: 0.7271\n",
            "Epoch 10/50\n",
            "\u001b[1m211/211\u001b[0m \u001b[32m━━━━━━━━━━━━━━━━━━━━\u001b[0m\u001b[37m\u001b[0m \u001b[1m0s\u001b[0m 283ms/step - accuracy: 0.8149 - loss: 0.6410\n",
            "Epoch 10: val_loss improved from 0.65385 to 0.62673, saving model to best_model.keras\n",
            "\u001b[1m211/211\u001b[0m \u001b[32m━━━━━━━━━━━━━━━━━━━━\u001b[0m\u001b[37m\u001b[0m \u001b[1m67s\u001b[0m 317ms/step - accuracy: 0.8149 - loss: 0.6410 - val_accuracy: 0.8258 - val_loss: 0.6267\n",
            "Epoch 11/50\n",
            "\u001b[1m211/211\u001b[0m \u001b[32m━━━━━━━━━━━━━━━━━━━━\u001b[0m\u001b[37m\u001b[0m \u001b[1m0s\u001b[0m 282ms/step - accuracy: 0.8230 - loss: 0.6257\n",
            "Epoch 11: val_loss did not improve from 0.62673\n",
            "\u001b[1m211/211\u001b[0m \u001b[32m━━━━━━━━━━━━━━━━━━━━\u001b[0m\u001b[37m\u001b[0m \u001b[1m80s\u001b[0m 310ms/step - accuracy: 0.8230 - loss: 0.6257 - val_accuracy: 0.7346 - val_loss: 0.8042\n",
            "Epoch 12/50\n",
            "\u001b[1m211/211\u001b[0m \u001b[32m━━━━━━━━━━━━━━━━━━━━\u001b[0m\u001b[37m\u001b[0m \u001b[1m0s\u001b[0m 282ms/step - accuracy: 0.8175 - loss: 0.6598\n",
            "Epoch 12: val_loss improved from 0.62673 to 0.61507, saving model to best_model.keras\n",
            "\u001b[1m211/211\u001b[0m \u001b[32m━━━━━━━━━━━━━━━━━━━━\u001b[0m\u001b[37m\u001b[0m \u001b[1m67s\u001b[0m 316ms/step - accuracy: 0.8175 - loss: 0.6597 - val_accuracy: 0.8377 - val_loss: 0.6151\n",
            "Epoch 13/50\n",
            "\u001b[1m211/211\u001b[0m \u001b[32m━━━━━━━━━━━━━━━━━━━━\u001b[0m\u001b[37m\u001b[0m \u001b[1m0s\u001b[0m 279ms/step - accuracy: 0.8419 - loss: 0.5803\n",
            "Epoch 13: val_loss did not improve from 0.61507\n",
            "\u001b[1m211/211\u001b[0m \u001b[32m━━━━━━━━━━━━━━━━━━━━\u001b[0m\u001b[37m\u001b[0m \u001b[1m65s\u001b[0m 307ms/step - accuracy: 0.8419 - loss: 0.5804 - val_accuracy: 0.7547 - val_loss: 0.7665\n",
            "Epoch 14/50\n",
            "\u001b[1m211/211\u001b[0m \u001b[32m━━━━━━━━━━━━━━━━━━━━\u001b[0m\u001b[37m\u001b[0m \u001b[1m0s\u001b[0m 286ms/step - accuracy: 0.8134 - loss: 0.6325\n",
            "Epoch 14: val_loss did not improve from 0.61507\n",
            "\u001b[1m211/211\u001b[0m \u001b[32m━━━━━━━━━━━━━━━━━━━━\u001b[0m\u001b[37m\u001b[0m \u001b[1m66s\u001b[0m 315ms/step - accuracy: 0.8134 - loss: 0.6324 - val_accuracy: 0.7986 - val_loss: 0.6590\n",
            "Epoch 15/50\n",
            "\u001b[1m211/211\u001b[0m \u001b[32m━━━━━━━━━━━━━━━━━━━━\u001b[0m\u001b[37m\u001b[0m \u001b[1m0s\u001b[0m 281ms/step - accuracy: 0.8186 - loss: 0.6205\n",
            "Epoch 15: val_loss did not improve from 0.61507\n",
            "\u001b[1m211/211\u001b[0m \u001b[32m━━━━━━━━━━━━━━━━━━━━\u001b[0m\u001b[37m\u001b[0m \u001b[1m81s\u001b[0m 309ms/step - accuracy: 0.8186 - loss: 0.6204 - val_accuracy: 0.8057 - val_loss: 0.6323\n",
            "Epoch 16/50\n",
            "\u001b[1m211/211\u001b[0m \u001b[32m━━━━━━━━━━━━━━━━━━━━\u001b[0m\u001b[37m\u001b[0m \u001b[1m0s\u001b[0m 281ms/step - accuracy: 0.8173 - loss: 0.6175\n",
            "Epoch 16: val_loss did not improve from 0.61507\n",
            "\u001b[1m211/211\u001b[0m \u001b[32m━━━━━━━━━━━━━━━━━━━━\u001b[0m\u001b[37m\u001b[0m \u001b[1m70s\u001b[0m 330ms/step - accuracy: 0.8173 - loss: 0.6174 - val_accuracy: 0.8045 - val_loss: 0.6543\n",
            "Epoch 17/50\n",
            "\u001b[1m211/211\u001b[0m \u001b[32m━━━━━━━━━━━━━━━━━━━━\u001b[0m\u001b[37m\u001b[0m \u001b[1m0s\u001b[0m 281ms/step - accuracy: 0.8219 - loss: 0.6200\n",
            "Epoch 17: val_loss did not improve from 0.61507\n",
            "\u001b[1m211/211\u001b[0m \u001b[32m━━━━━━━━━━━━━━━━━━━━\u001b[0m\u001b[37m\u001b[0m \u001b[1m65s\u001b[0m 309ms/step - accuracy: 0.8220 - loss: 0.6200 - val_accuracy: 0.7867 - val_loss: 0.6486\n",
            "Epoch 18/50\n",
            "\u001b[1m211/211\u001b[0m \u001b[32m━━━━━━━━━━━━━━━━━━━━\u001b[0m\u001b[37m\u001b[0m \u001b[1m0s\u001b[0m 286ms/step - accuracy: 0.8225 - loss: 0.6263\n",
            "Epoch 18: val_loss did not improve from 0.61507\n",
            "\u001b[1m211/211\u001b[0m \u001b[32m━━━━━━━━━━━━━━━━━━━━\u001b[0m\u001b[37m\u001b[0m \u001b[1m66s\u001b[0m 315ms/step - accuracy: 0.8226 - loss: 0.6262 - val_accuracy: 0.8282 - val_loss: 0.6366\n",
            "Epoch 18: early stopping\n",
            "Restoring model weights from the end of the best epoch: 12.\n"
          ]
        }
      ],
      "execution_count": 15
    },
    {
      "cell_type": "code",
      "source": [
        "model = tf.keras.models.load_model(\"best_model.keras\")"
      ],
      "metadata": {
        "id": "JJv5IB7Z3ffw"
      },
      "execution_count": null,
      "outputs": []
    },
    {
      "cell_type": "code",
      "source": [
        "from tensorflow.keras.preprocessing import image\n",
        "img_path = \"/content/Glaucoma.png\"\n",
        "img = image.load_img(img_path, target_size=(224, 224))  # نفس الحجم اللي اتدرب عليه\n",
        "img_array = image.img_to_array(img)\n",
        "img_array = np.expand_dims(img_array, axis=0)  # (1, 224, 224, 3) عشان batch\n",
        "\n",
        "pred = model.predict(img_array)\n",
        "print(pred)\n",
        "class_labels = list(train_augmented.class_indices.keys())\n",
        "print(\"Predicted:\", class_labels[np.argmax(pred)])"
      ],
      "metadata": {
        "colab": {
          "base_uri": "https://localhost:8080/"
        },
        "id": "laYQ5tSG0p0J",
        "outputId": "8781ae18-b30e-437f-c7a3-c6f8a3fb61f5"
      },
      "execution_count": null,
      "outputs": [
        {
          "output_type": "stream",
          "name": "stdout",
          "text": [
            "\u001b[1m1/1\u001b[0m \u001b[32m━━━━━━━━━━━━━━━━━━━━\u001b[0m\u001b[37m\u001b[0m \u001b[1m0s\u001b[0m 46ms/step\n",
            "[[0.08807027 0.00436081 0.89798677 0.00958208]]\n",
            "Predicted: glaucoma\n"
          ]
        }
      ]
    }
  ]
}